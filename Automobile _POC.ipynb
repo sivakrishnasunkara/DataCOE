{
 "cells": [
  {
   "cell_type": "code",
   "execution_count": 217,
   "metadata": {},
   "outputs": [],
   "source": [
    "import pandas as pd\n",
    "from matplotlib import pyplot as pt"
   ]
  },
  {
   "cell_type": "code",
   "execution_count": 218,
   "metadata": {},
   "outputs": [],
   "source": [
    "car_df = pd.read_csv('training.csv')"
   ]
  },
  {
   "cell_type": "code",
   "execution_count": 219,
   "metadata": {},
   "outputs": [
    {
     "data": {
      "text/html": [
       "<div>\n",
       "<style scoped>\n",
       "    .dataframe tbody tr th:only-of-type {\n",
       "        vertical-align: middle;\n",
       "    }\n",
       "\n",
       "    .dataframe tbody tr th {\n",
       "        vertical-align: top;\n",
       "    }\n",
       "\n",
       "    .dataframe thead th {\n",
       "        text-align: right;\n",
       "    }\n",
       "</style>\n",
       "<table border=\"1\" class=\"dataframe\">\n",
       "  <thead>\n",
       "    <tr style=\"text-align: right;\">\n",
       "      <th></th>\n",
       "      <th>RefId</th>\n",
       "      <th>IsBadBuy</th>\n",
       "      <th>PurchDate</th>\n",
       "      <th>Auction</th>\n",
       "      <th>VehYear</th>\n",
       "      <th>VehicleAge</th>\n",
       "      <th>Make</th>\n",
       "      <th>Model</th>\n",
       "      <th>Trim</th>\n",
       "      <th>SubModel</th>\n",
       "      <th>...</th>\n",
       "      <th>MMRCurrentRetailAveragePrice</th>\n",
       "      <th>MMRCurrentRetailCleanPrice</th>\n",
       "      <th>PRIMEUNIT</th>\n",
       "      <th>AUCGUART</th>\n",
       "      <th>BYRNO</th>\n",
       "      <th>VNZIP1</th>\n",
       "      <th>VNST</th>\n",
       "      <th>VehBCost</th>\n",
       "      <th>IsOnlineSale</th>\n",
       "      <th>WarrantyCost</th>\n",
       "    </tr>\n",
       "  </thead>\n",
       "  <tbody>\n",
       "    <tr>\n",
       "      <td>0</td>\n",
       "      <td>1</td>\n",
       "      <td>0</td>\n",
       "      <td>12/7/2009</td>\n",
       "      <td>ADESA</td>\n",
       "      <td>2006</td>\n",
       "      <td>3</td>\n",
       "      <td>MAZDA</td>\n",
       "      <td>MAZDA3</td>\n",
       "      <td>i</td>\n",
       "      <td>4D SEDAN I</td>\n",
       "      <td>...</td>\n",
       "      <td>11597.0</td>\n",
       "      <td>12409.0</td>\n",
       "      <td>NaN</td>\n",
       "      <td>NaN</td>\n",
       "      <td>21973</td>\n",
       "      <td>33619</td>\n",
       "      <td>FL</td>\n",
       "      <td>7100.0</td>\n",
       "      <td>0</td>\n",
       "      <td>1113</td>\n",
       "    </tr>\n",
       "    <tr>\n",
       "      <td>1</td>\n",
       "      <td>2</td>\n",
       "      <td>0</td>\n",
       "      <td>12/7/2009</td>\n",
       "      <td>ADESA</td>\n",
       "      <td>2004</td>\n",
       "      <td>5</td>\n",
       "      <td>DODGE</td>\n",
       "      <td>1500 RAM PICKUP 2WD</td>\n",
       "      <td>ST</td>\n",
       "      <td>QUAD CAB 4.7L SLT</td>\n",
       "      <td>...</td>\n",
       "      <td>11374.0</td>\n",
       "      <td>12791.0</td>\n",
       "      <td>NaN</td>\n",
       "      <td>NaN</td>\n",
       "      <td>19638</td>\n",
       "      <td>33619</td>\n",
       "      <td>FL</td>\n",
       "      <td>7600.0</td>\n",
       "      <td>0</td>\n",
       "      <td>1053</td>\n",
       "    </tr>\n",
       "    <tr>\n",
       "      <td>2</td>\n",
       "      <td>3</td>\n",
       "      <td>0</td>\n",
       "      <td>12/7/2009</td>\n",
       "      <td>ADESA</td>\n",
       "      <td>2005</td>\n",
       "      <td>4</td>\n",
       "      <td>DODGE</td>\n",
       "      <td>STRATUS V6</td>\n",
       "      <td>SXT</td>\n",
       "      <td>4D SEDAN SXT FFV</td>\n",
       "      <td>...</td>\n",
       "      <td>7146.0</td>\n",
       "      <td>8702.0</td>\n",
       "      <td>NaN</td>\n",
       "      <td>NaN</td>\n",
       "      <td>19638</td>\n",
       "      <td>33619</td>\n",
       "      <td>FL</td>\n",
       "      <td>4900.0</td>\n",
       "      <td>0</td>\n",
       "      <td>1389</td>\n",
       "    </tr>\n",
       "    <tr>\n",
       "      <td>3</td>\n",
       "      <td>4</td>\n",
       "      <td>0</td>\n",
       "      <td>12/7/2009</td>\n",
       "      <td>ADESA</td>\n",
       "      <td>2004</td>\n",
       "      <td>5</td>\n",
       "      <td>DODGE</td>\n",
       "      <td>NEON</td>\n",
       "      <td>SXT</td>\n",
       "      <td>4D SEDAN</td>\n",
       "      <td>...</td>\n",
       "      <td>4375.0</td>\n",
       "      <td>5518.0</td>\n",
       "      <td>NaN</td>\n",
       "      <td>NaN</td>\n",
       "      <td>19638</td>\n",
       "      <td>33619</td>\n",
       "      <td>FL</td>\n",
       "      <td>4100.0</td>\n",
       "      <td>0</td>\n",
       "      <td>630</td>\n",
       "    </tr>\n",
       "    <tr>\n",
       "      <td>4</td>\n",
       "      <td>5</td>\n",
       "      <td>0</td>\n",
       "      <td>12/7/2009</td>\n",
       "      <td>ADESA</td>\n",
       "      <td>2005</td>\n",
       "      <td>4</td>\n",
       "      <td>FORD</td>\n",
       "      <td>FOCUS</td>\n",
       "      <td>ZX3</td>\n",
       "      <td>2D COUPE ZX3</td>\n",
       "      <td>...</td>\n",
       "      <td>6739.0</td>\n",
       "      <td>7911.0</td>\n",
       "      <td>NaN</td>\n",
       "      <td>NaN</td>\n",
       "      <td>19638</td>\n",
       "      <td>33619</td>\n",
       "      <td>FL</td>\n",
       "      <td>4000.0</td>\n",
       "      <td>0</td>\n",
       "      <td>1020</td>\n",
       "    </tr>\n",
       "  </tbody>\n",
       "</table>\n",
       "<p>5 rows × 34 columns</p>\n",
       "</div>"
      ],
      "text/plain": [
       "   RefId  IsBadBuy  PurchDate Auction  VehYear  VehicleAge   Make  \\\n",
       "0      1         0  12/7/2009   ADESA     2006           3  MAZDA   \n",
       "1      2         0  12/7/2009   ADESA     2004           5  DODGE   \n",
       "2      3         0  12/7/2009   ADESA     2005           4  DODGE   \n",
       "3      4         0  12/7/2009   ADESA     2004           5  DODGE   \n",
       "4      5         0  12/7/2009   ADESA     2005           4   FORD   \n",
       "\n",
       "                 Model Trim           SubModel  ...  \\\n",
       "0               MAZDA3    i         4D SEDAN I  ...   \n",
       "1  1500 RAM PICKUP 2WD   ST  QUAD CAB 4.7L SLT  ...   \n",
       "2           STRATUS V6  SXT   4D SEDAN SXT FFV  ...   \n",
       "3                 NEON  SXT           4D SEDAN  ...   \n",
       "4                FOCUS  ZX3       2D COUPE ZX3  ...   \n",
       "\n",
       "  MMRCurrentRetailAveragePrice MMRCurrentRetailCleanPrice  PRIMEUNIT AUCGUART  \\\n",
       "0                      11597.0                    12409.0        NaN      NaN   \n",
       "1                      11374.0                    12791.0        NaN      NaN   \n",
       "2                       7146.0                     8702.0        NaN      NaN   \n",
       "3                       4375.0                     5518.0        NaN      NaN   \n",
       "4                       6739.0                     7911.0        NaN      NaN   \n",
       "\n",
       "   BYRNO VNZIP1 VNST VehBCost  IsOnlineSale  WarrantyCost  \n",
       "0  21973  33619   FL   7100.0             0          1113  \n",
       "1  19638  33619   FL   7600.0             0          1053  \n",
       "2  19638  33619   FL   4900.0             0          1389  \n",
       "3  19638  33619   FL   4100.0             0           630  \n",
       "4  19638  33619   FL   4000.0             0          1020  \n",
       "\n",
       "[5 rows x 34 columns]"
      ]
     },
     "execution_count": 219,
     "metadata": {},
     "output_type": "execute_result"
    }
   ],
   "source": [
    "car_df.head()"
   ]
  },
  {
   "cell_type": "code",
   "execution_count": 220,
   "metadata": {},
   "outputs": [
    {
     "data": {
      "text/plain": [
       "(72983, 34)"
      ]
     },
     "execution_count": 220,
     "metadata": {},
     "output_type": "execute_result"
    }
   ],
   "source": [
    "#Printing the shape of dataframe\n",
    "car_df.shape"
   ]
  },
  {
   "cell_type": "code",
   "execution_count": 287,
   "metadata": {},
   "outputs": [
    {
     "data": {
      "text/plain": [
       "69564"
      ]
     },
     "execution_count": 287,
     "metadata": {},
     "output_type": "execute_result"
    }
   ],
   "source": [
    "car_df['AUCGUART'].isnull().sum()"
   ]
  },
  {
   "cell_type": "code",
   "execution_count": 288,
   "metadata": {},
   "outputs": [
    {
     "data": {
      "text/plain": [
       "69564"
      ]
     },
     "execution_count": 288,
     "metadata": {},
     "output_type": "execute_result"
    }
   ],
   "source": [
    "car_df['PRIMEUNIT'].isnull().sum()"
   ]
  },
  {
   "cell_type": "code",
   "execution_count": 223,
   "metadata": {},
   "outputs": [],
   "source": [
    "#Removing AUCGUART, PRIMEUNIT as they have 69564 null values so we cannot replace those as we do not have any historical data\n",
    "#Removing the VNZIP1 as ZIP code and VNST state where it is pruchased is represent same information"
   ]
  },
  {
   "cell_type": "code",
   "execution_count": 224,
   "metadata": {},
   "outputs": [],
   "source": [
    "car_df_dropped = car_df.drop(['AUCGUART','PRIMEUNIT','VNZIP1','WheelType'],axis=1)"
   ]
  },
  {
   "cell_type": "code",
   "execution_count": 225,
   "metadata": {
    "scrolled": true
   },
   "outputs": [
    {
     "data": {
      "text/plain": [
       "(72983, 30)"
      ]
     },
     "execution_count": 225,
     "metadata": {},
     "output_type": "execute_result"
    }
   ],
   "source": [
    "car_df_dropped.shape"
   ]
  },
  {
   "cell_type": "code",
   "execution_count": 226,
   "metadata": {},
   "outputs": [
    {
     "data": {
      "text/plain": [
       "RefId                                  int64\n",
       "IsBadBuy                               int64\n",
       "PurchDate                             object\n",
       "Auction                               object\n",
       "VehYear                                int64\n",
       "VehicleAge                             int64\n",
       "Make                                  object\n",
       "Model                                 object\n",
       "Trim                                  object\n",
       "SubModel                              object\n",
       "Color                                 object\n",
       "Transmission                          object\n",
       "WheelTypeID                          float64\n",
       "VehOdo                                 int64\n",
       "Nationality                           object\n",
       "Size                                  object\n",
       "TopThreeAmericanName                  object\n",
       "MMRAcquisitionAuctionAveragePrice    float64\n",
       "MMRAcquisitionAuctionCleanPrice      float64\n",
       "MMRAcquisitionRetailAveragePrice     float64\n",
       "MMRAcquisitonRetailCleanPrice        float64\n",
       "MMRCurrentAuctionAveragePrice        float64\n",
       "MMRCurrentAuctionCleanPrice          float64\n",
       "MMRCurrentRetailAveragePrice         float64\n",
       "MMRCurrentRetailCleanPrice           float64\n",
       "BYRNO                                  int64\n",
       "VNST                                  object\n",
       "VehBCost                             float64\n",
       "IsOnlineSale                           int64\n",
       "WarrantyCost                           int64\n",
       "dtype: object"
      ]
     },
     "execution_count": 226,
     "metadata": {},
     "output_type": "execute_result"
    }
   ],
   "source": [
    "car_df_dropped.dtypes"
   ]
  },
  {
   "cell_type": "code",
   "execution_count": 227,
   "metadata": {},
   "outputs": [],
   "source": [
    "#This is to convert all the datetime formats to one single format\n",
    "car_df_dropped['Date']=pd.to_datetime(car_df_dropped['PurchDate'], errors='coerce')"
   ]
  },
  {
   "cell_type": "code",
   "execution_count": 228,
   "metadata": {},
   "outputs": [
    {
     "data": {
      "text/plain": [
       "RefId                                         int64\n",
       "IsBadBuy                                      int64\n",
       "PurchDate                                    object\n",
       "Auction                                      object\n",
       "VehYear                                       int64\n",
       "VehicleAge                                    int64\n",
       "Make                                         object\n",
       "Model                                        object\n",
       "Trim                                         object\n",
       "SubModel                                     object\n",
       "Color                                        object\n",
       "Transmission                                 object\n",
       "WheelTypeID                                 float64\n",
       "VehOdo                                        int64\n",
       "Nationality                                  object\n",
       "Size                                         object\n",
       "TopThreeAmericanName                         object\n",
       "MMRAcquisitionAuctionAveragePrice           float64\n",
       "MMRAcquisitionAuctionCleanPrice             float64\n",
       "MMRAcquisitionRetailAveragePrice            float64\n",
       "MMRAcquisitonRetailCleanPrice               float64\n",
       "MMRCurrentAuctionAveragePrice               float64\n",
       "MMRCurrentAuctionCleanPrice                 float64\n",
       "MMRCurrentRetailAveragePrice                float64\n",
       "MMRCurrentRetailCleanPrice                  float64\n",
       "BYRNO                                         int64\n",
       "VNST                                         object\n",
       "VehBCost                                    float64\n",
       "IsOnlineSale                                  int64\n",
       "WarrantyCost                                  int64\n",
       "Date                                 datetime64[ns]\n",
       "dtype: object"
      ]
     },
     "execution_count": 228,
     "metadata": {},
     "output_type": "execute_result"
    }
   ],
   "source": [
    "car_df_dropped.dtypes"
   ]
  },
  {
   "cell_type": "code",
   "execution_count": 229,
   "metadata": {},
   "outputs": [],
   "source": [
    "#The following is to split date, month, year from the date time. As we try to convert date time to integer ,it will give value with greater magnitude which may make the model biased to this column\n",
    "car_df_dropped['purchasedMonth']= pd.DatetimeIndex(car_df_dropped['Date']).month"
   ]
  },
  {
   "cell_type": "code",
   "execution_count": 230,
   "metadata": {},
   "outputs": [],
   "source": [
    "car_df_dropped['purchasedYear']= pd.DatetimeIndex(car_df_dropped['Date']).year"
   ]
  },
  {
   "cell_type": "code",
   "execution_count": 231,
   "metadata": {},
   "outputs": [],
   "source": [
    "car_df_dropped['purchasedDay']= pd.DatetimeIndex(car_df_dropped['Date']).day"
   ]
  },
  {
   "cell_type": "code",
   "execution_count": 232,
   "metadata": {},
   "outputs": [
    {
     "data": {
      "text/plain": [
       "(72983, 34)"
      ]
     },
     "execution_count": 232,
     "metadata": {},
     "output_type": "execute_result"
    }
   ],
   "source": [
    "car_df_dropped.shape"
   ]
  },
  {
   "cell_type": "code",
   "execution_count": 233,
   "metadata": {},
   "outputs": [],
   "source": [
    "car_df_date_dropped = car_df_dropped.drop(['Date','PurchDate'],axis=1)"
   ]
  },
  {
   "cell_type": "code",
   "execution_count": 234,
   "metadata": {},
   "outputs": [
    {
     "data": {
      "text/plain": [
       "(72983, 32)"
      ]
     },
     "execution_count": 234,
     "metadata": {},
     "output_type": "execute_result"
    }
   ],
   "source": [
    "car_df_date_dropped.shape"
   ]
  },
  {
   "cell_type": "code",
   "execution_count": 235,
   "metadata": {},
   "outputs": [
    {
     "data": {
      "text/plain": [
       "RefId                                  int64\n",
       "IsBadBuy                               int64\n",
       "Auction                               object\n",
       "VehYear                                int64\n",
       "VehicleAge                             int64\n",
       "Make                                  object\n",
       "Model                                 object\n",
       "Trim                                  object\n",
       "SubModel                              object\n",
       "Color                                 object\n",
       "Transmission                          object\n",
       "WheelTypeID                          float64\n",
       "VehOdo                                 int64\n",
       "Nationality                           object\n",
       "Size                                  object\n",
       "TopThreeAmericanName                  object\n",
       "MMRAcquisitionAuctionAveragePrice    float64\n",
       "MMRAcquisitionAuctionCleanPrice      float64\n",
       "MMRAcquisitionRetailAveragePrice     float64\n",
       "MMRAcquisitonRetailCleanPrice        float64\n",
       "MMRCurrentAuctionAveragePrice        float64\n",
       "MMRCurrentAuctionCleanPrice          float64\n",
       "MMRCurrentRetailAveragePrice         float64\n",
       "MMRCurrentRetailCleanPrice           float64\n",
       "BYRNO                                  int64\n",
       "VNST                                  object\n",
       "VehBCost                             float64\n",
       "IsOnlineSale                           int64\n",
       "WarrantyCost                           int64\n",
       "purchasedMonth                         int64\n",
       "purchasedYear                          int64\n",
       "purchasedDay                           int64\n",
       "dtype: object"
      ]
     },
     "execution_count": 235,
     "metadata": {},
     "output_type": "execute_result"
    }
   ],
   "source": [
    "car_df_date_dropped.dtypes"
   ]
  },
  {
   "cell_type": "code",
   "execution_count": 236,
   "metadata": {},
   "outputs": [],
   "source": [
    "'''Trying to convert categorical columns to integers\n",
    "Converting categorical value column to one hot encoded vectors, \n",
    "I have choosen these column because the categories which are in train data are similar to categories in test data'''\n",
    "car_df_date_dropped['Make'] = car_df_date_dropped['Make'].astype('category')\n",
    "car_df_date_dropped['Make'] = car_df_date_dropped['Make'].cat.codes"
   ]
  },
  {
   "cell_type": "code",
   "execution_count": 237,
   "metadata": {},
   "outputs": [],
   "source": [
    "car_df_date_dropped['Model'] = car_df_date_dropped['Model'].astype('category')\n",
    "car_df_date_dropped['Model'] = car_df_date_dropped['Model'].cat.codes"
   ]
  },
  {
   "cell_type": "code",
   "execution_count": 238,
   "metadata": {},
   "outputs": [],
   "source": [
    "car_df_date_dropped['Trim'] = car_df_date_dropped['Trim'].astype('category')\n",
    "car_df_date_dropped['Trim'] = car_df_date_dropped['Trim'].cat.codes"
   ]
  },
  {
   "cell_type": "code",
   "execution_count": 239,
   "metadata": {},
   "outputs": [],
   "source": [
    "car_df_date_dropped['SubModel'] = car_df_date_dropped['SubModel'].astype('category')\n",
    "car_df_date_dropped['SubModel'] = car_df_date_dropped['SubModel'].cat.codes"
   ]
  },
  {
   "cell_type": "code",
   "execution_count": 240,
   "metadata": {},
   "outputs": [],
   "source": [
    "car_df_date_dropped['Color'] = car_df_date_dropped['Color'].astype('category')\n",
    "car_df_date_dropped['Color'] = car_df_date_dropped['Color'].cat.codes"
   ]
  },
  {
   "cell_type": "code",
   "execution_count": 241,
   "metadata": {},
   "outputs": [],
   "source": [
    "car_df_date_dropped['VNST'] = car_df_date_dropped['VNST'].astype('category')\n",
    "car_df_date_dropped['VNST'] = car_df_date_dropped['VNST'].cat.codes"
   ]
  },
  {
   "cell_type": "code",
   "execution_count": 242,
   "metadata": {},
   "outputs": [
    {
     "data": {
      "text/plain": [
       "\"VSNT,Color,SubModel,Trim,Model,Make are converted to integers. \\nI used have cat codes here because the train and test set doesn't have same set of categories\""
      ]
     },
     "execution_count": 242,
     "metadata": {},
     "output_type": "execute_result"
    }
   ],
   "source": [
    "'''VSNT,Color,SubModel,Trim,Model,Make are converted to integers. \n",
    "I used have cat codes here because the train and test set doesn't have same set of categories'''"
   ]
  },
  {
   "cell_type": "code",
   "execution_count": 243,
   "metadata": {},
   "outputs": [],
   "source": [
    "#car_df_date_dropped_encoded = pd.get_dummies(car_df_date_dropped,columns=['Nationality','Auction','Transmission','Size','TopThreeAmericanName'])"
   ]
  },
  {
   "cell_type": "code",
   "execution_count": 244,
   "metadata": {},
   "outputs": [
    {
     "data": {
      "text/plain": [
       "(72983, 32)"
      ]
     },
     "execution_count": 244,
     "metadata": {},
     "output_type": "execute_result"
    }
   ],
   "source": [
    "car_df_date_dropped.shape"
   ]
  },
  {
   "cell_type": "code",
   "execution_count": 250,
   "metadata": {},
   "outputs": [
    {
     "name": "stdout",
     "output_type": "stream",
     "text": [
      "Count of Null values for each column Transmission                            9\n",
      "WheelTypeID                          3169\n",
      "Nationality                             5\n",
      "Size                                    5\n",
      "TopThreeAmericanName                    5\n",
      "MMRAcquisitionAuctionAveragePrice      18\n",
      "MMRAcquisitionAuctionCleanPrice        18\n",
      "MMRAcquisitionRetailAveragePrice       18\n",
      "MMRAcquisitonRetailCleanPrice          18\n",
      "MMRCurrentAuctionAveragePrice         315\n",
      "MMRCurrentAuctionCleanPrice           315\n",
      "MMRCurrentRetailAveragePrice          315\n",
      "MMRCurrentRetailCleanPrice            315\n",
      "dtype: int64\n"
     ]
    }
   ],
   "source": [
    "'''Replacing the null values with the median of the column assuming data to distributed normally. We can replace with historical data as well.For now replacing with median as there is time constraint'''\n",
    "nullValues = car_df_date_dropped.isnull().sum()\n",
    "print('Count of Null values for each column',nullValues[nullValues>0])"
   ]
  },
  {
   "cell_type": "code",
   "execution_count": 251,
   "metadata": {},
   "outputs": [],
   "source": [
    "car_df_date_dropped.fillna(car_df_date_dropped.median(), inplace=True)"
   ]
  },
  {
   "cell_type": "code",
   "execution_count": 253,
   "metadata": {},
   "outputs": [
    {
     "name": "stdout",
     "output_type": "stream",
     "text": [
      "Count of Null values for each column Transmission            9\n",
      "Nationality             5\n",
      "Size                    5\n",
      "TopThreeAmericanName    5\n",
      "dtype: int64\n"
     ]
    }
   ],
   "source": [
    "'''This is after filling the null values with median'''\n",
    "nullValues = car_df_date_dropped.isnull().sum()\n",
    "print('Count of Null values after filling with median for each column',nullValues[nullValues>0])"
   ]
  },
  {
   "cell_type": "code",
   "execution_count": 256,
   "metadata": {},
   "outputs": [
    {
     "name": "stdout",
     "output_type": "stream",
     "text": [
      "['OTHER ASIAN' 'AMERICAN' 'TOP LINE ASIAN' 'OTHER' nan]\n",
      "['MEDIUM' 'LARGE TRUCK' 'COMPACT' 'LARGE' 'VAN' 'MEDIUM SUV' 'LARGE SUV'\n",
      " 'SPECIALTY' 'SPORTS' 'CROSSOVER' 'SMALL SUV' 'SMALL TRUCK' nan]\n",
      "['OTHER' 'CHRYSLER' 'FORD' 'GM' nan]\n"
     ]
    }
   ],
   "source": [
    "'''All the above columns had NAN values. As we are converting them to one hot vectors they will form a different category'''\n",
    "print(car_df_date_dropped.Nationality.unique())\n",
    "print(car_df_date_dropped.Size.unique())\n",
    "print(car_df_date_dropped.TopThreeAmericanName.unique())"
   ]
  },
  {
   "cell_type": "code",
   "execution_count": 307,
   "metadata": {},
   "outputs": [],
   "source": [
    "'''Replacing Transmission column value Manual category with CATEGORY'''\n",
    "car_df_date_dropped['Transmission']=car_df_date_dropped['Transmission'].replace('Manual','MANUAL')"
   ]
  },
  {
   "cell_type": "code",
   "execution_count": 309,
   "metadata": {},
   "outputs": [],
   "source": [
    "car_df_date_dropped_encoded = pd.get_dummies(car_df_date_dropped,columns=['Nationality','Auction','Transmission','Size','TopThreeAmericanName'])"
   ]
  },
  {
   "cell_type": "code",
   "execution_count": 310,
   "metadata": {},
   "outputs": [
    {
     "data": {
      "text/plain": [
       "Index(['RefId', 'IsBadBuy', 'VehYear', 'VehicleAge', 'Make', 'Model', 'Trim',\n",
       "       'SubModel', 'Color', 'WheelTypeID', 'VehOdo',\n",
       "       'MMRAcquisitionAuctionAveragePrice', 'MMRAcquisitionAuctionCleanPrice',\n",
       "       'MMRAcquisitionRetailAveragePrice', 'MMRAcquisitonRetailCleanPrice',\n",
       "       'MMRCurrentAuctionAveragePrice', 'MMRCurrentAuctionCleanPrice',\n",
       "       'MMRCurrentRetailAveragePrice', 'MMRCurrentRetailCleanPrice', 'BYRNO',\n",
       "       'VNST', 'VehBCost', 'IsOnlineSale', 'WarrantyCost', 'purchasedMonth',\n",
       "       'purchasedYear', 'purchasedDay', 'Nationality_AMERICAN',\n",
       "       'Nationality_OTHER', 'Nationality_OTHER ASIAN',\n",
       "       'Nationality_TOP LINE ASIAN', 'Auction_ADESA', 'Auction_MANHEIM',\n",
       "       'Auction_OTHER', 'Transmission_AUTO', 'Transmission_MANUAL',\n",
       "       'Size_COMPACT', 'Size_CROSSOVER', 'Size_LARGE', 'Size_LARGE SUV',\n",
       "       'Size_LARGE TRUCK', 'Size_MEDIUM', 'Size_MEDIUM SUV', 'Size_SMALL SUV',\n",
       "       'Size_SMALL TRUCK', 'Size_SPECIALTY', 'Size_SPORTS', 'Size_VAN',\n",
       "       'TopThreeAmericanName_CHRYSLER', 'TopThreeAmericanName_FORD',\n",
       "       'TopThreeAmericanName_GM', 'TopThreeAmericanName_OTHER'],\n",
       "      dtype='object')"
      ]
     },
     "execution_count": 310,
     "metadata": {},
     "output_type": "execute_result"
    }
   ],
   "source": [
    "car_df_date_dropped_encoded.columns"
   ]
  },
  {
   "cell_type": "code",
   "execution_count": 311,
   "metadata": {},
   "outputs": [
    {
     "name": "stdout",
     "output_type": "stream",
     "text": [
      "Count of Null values after converting to one hot encoding Series([], dtype: int64)\n"
     ]
    }
   ],
   "source": [
    "nullValues = car_df_date_dropped_encoded.isnull().sum()\n",
    "print('Count of Null values after converting to one hot encoding',nullValues[nullValues>0])"
   ]
  },
  {
   "cell_type": "code",
   "execution_count": 312,
   "metadata": {},
   "outputs": [
    {
     "data": {
      "text/plain": [
       "(72983, 52)"
      ]
     },
     "execution_count": 312,
     "metadata": {},
     "output_type": "execute_result"
    }
   ],
   "source": [
    "car_df_date_dropped_encoded.shape"
   ]
  },
  {
   "cell_type": "code",
   "execution_count": 313,
   "metadata": {},
   "outputs": [],
   "source": [
    "#This is for splitting the into train set and cross validation set\n",
    "from sklearn.model_selection import train_test_split\n",
    "X = car_df_date_dropped_encoded.drop(['IsBadBuy'],axis=1)\n",
    "y = car_df_date_dropped_encoded['IsBadBuy']\n",
    "X_train, X_cross_validation, y_train, y_cross_validation = train_test_split(X,y,test_size=0.3)"
   ]
  },
  {
   "cell_type": "code",
   "execution_count": 314,
   "metadata": {},
   "outputs": [
    {
     "name": "stdout",
     "output_type": "stream",
     "text": [
      "Shape of X (72983, 51)\n",
      "Shape of y (72983,)\n",
      "Shape of X_train (51088, 51)\n",
      "Shape of X_cross_validation (21895, 51)\n",
      "Shape of y_train (51088,)\n",
      "Shape of y_cross_validation (21895,)\n"
     ]
    }
   ],
   "source": [
    "print('Shape of X', X.shape)\n",
    "print('Shape of y',y.shape)\n",
    "print('Shape of X_train',X_train.shape)\n",
    "print('Shape of X_cross_validation',X_cross_validation.shape)\n",
    "print('Shape of y_train',y_train.shape)\n",
    "print('Shape of y_cross_validation',y_cross_validation.shape)"
   ]
  },
  {
   "cell_type": "code",
   "execution_count": 315,
   "metadata": {},
   "outputs": [],
   "source": [
    "from sklearn import metrics\n",
    "from sklearn.ensemble import RandomForestClassifier"
   ]
  },
  {
   "cell_type": "code",
   "execution_count": 316,
   "metadata": {},
   "outputs": [
    {
     "name": "stdout",
     "output_type": "stream",
     "text": [
      "Score using Random forest classifier for 20 neighbours is 0.878419730532085.\n",
      "Score using Random forest classifier for 30 neighbours is 0.8796985613153688.\n",
      "Score using Random forest classifier for 40 neighbours is 0.8802923041790363.\n"
     ]
    }
   ],
   "source": [
    "#Cross validating using Random forest classifier and trying to tune the hyper parameter n_estimators\n",
    "def getOptimalTrees(neighbors):\n",
    "    random_forest_model = RandomForestClassifier(n_estimators=neighbors)\n",
    "    random_forest_model.fit(X_train,y_train)\n",
    "    predicted = random_forest_model.predict(X_cross_validation)\n",
    "    score = metrics.accuracy_score(y_cross_validation,predicted)\n",
    "    print('Score using Random forest classifier for {} neighbours is {}.'.format(neighbors,score))\n",
    "    return score\n",
    "list = [20,30,40]\n",
    "for i in list:\n",
    "    getOptimalTrees(i)"
   ]
  },
  {
   "cell_type": "code",
   "execution_count": 327,
   "metadata": {},
   "outputs": [],
   "source": [
    "from sklearn.tree import DecisionTreeClassifier"
   ]
  },
  {
   "cell_type": "code",
   "execution_count": 328,
   "metadata": {},
   "outputs": [
    {
     "name": "stdout",
     "output_type": "stream",
     "text": [
      "Score using Decision tree classifier for tree of depth 20 and 9 max_leaf_nodes is 0.8790134733957524.\n",
      "Score using Decision tree classifier for tree of depth 10 and 5 max_leaf_nodes is 0.8789221283398037.\n",
      "Score using Decision tree classifier for tree of depth 30 and 2 max_leaf_nodes is 0.8789221283398037.\n"
     ]
    }
   ],
   "source": [
    "#Cross validating using Random forest classifier and trying to tune the hyper parameter max_depth and max_leaf_nodes\n",
    "def getOptimalTrees(depth,leaf_nodes):\n",
    "    clf = DecisionTreeClassifier(max_depth=depth,max_leaf_nodes=leaf_nodes)\n",
    "    clf.fit(X_train,y_train)\n",
    "    predicted = clf.predict(X_cross_validation)\n",
    "    score = metrics.accuracy_score(y_cross_validation,predicted)\n",
    "    print('Score using Decision tree classifier for tree of depth {} and {} max_leaf_nodes is {}.'.format(depth,leaf_nodes,score))\n",
    "list = [[20,9],[10,5],[30,2]]\n",
    "for item in list:\n",
    "    getOptimalTrees(item[0],item[1])"
   ]
  },
  {
   "cell_type": "code",
   "execution_count": 329,
   "metadata": {},
   "outputs": [],
   "source": [
    "from sklearn.ensemble import AdaBoostClassifier"
   ]
  },
  {
   "cell_type": "code",
   "execution_count": 330,
   "metadata": {},
   "outputs": [
    {
     "name": "stdout",
     "output_type": "stream",
     "text": [
      "Score using AdaBoostClassifier having the learning rate 0.1 is 0.8789221283398037.\n",
      "Score using AdaBoostClassifier having the learning rate 0.01 is 0.8789221283398037.\n",
      "Score using AdaBoostClassifier having the learning rate 1 is 0.8798355788992921.\n",
      "Score using AdaBoostClassifier having the learning rate 10 is 0.12107787166019639.\n"
     ]
    }
   ],
   "source": [
    "def getOptimalParameters(learning_rate):\n",
    "    clf = AdaBoostClassifier(random_state=5,learning_rate=learning_rate)\n",
    "    clf.fit(X_train,y_train)\n",
    "    predicted = clf.predict(X_cross_validation)\n",
    "    score = metrics.accuracy_score(y_cross_validation,predicted)\n",
    "    print('Score using AdaBoostClassifier having the learning rate {} is {}.'.format(learning_rate,score))\n",
    "list = [0.1,0.01,1,10]\n",
    "for item in list:\n",
    "    getOptimalParameters(item)"
   ]
  },
  {
   "cell_type": "code",
   "execution_count": null,
   "metadata": {},
   "outputs": [],
   "source": [
    "'''As Random forest classifer with 40 estimators is giving the better results . \n",
    "We will implement the model using Random forest classifer'''"
   ]
  },
  {
   "cell_type": "code",
   "execution_count": 284,
   "metadata": {},
   "outputs": [
    {
     "data": {
      "text/plain": [
       "(48707, 33)"
      ]
     },
     "execution_count": 284,
     "metadata": {},
     "output_type": "execute_result"
    }
   ],
   "source": [
    "test_df = pd.read_csv('test.csv')\n",
    "test_df.shape"
   ]
  },
  {
   "cell_type": "code",
   "execution_count": 331,
   "metadata": {},
   "outputs": [
    {
     "data": {
      "text/plain": [
       "'Applying the same transformation  to test data that are done for training data set'"
      ]
     },
     "execution_count": 331,
     "metadata": {},
     "output_type": "execute_result"
    }
   ],
   "source": [
    "'''Applying the same transformation  to test data that are done for training data set'''"
   ]
  },
  {
   "cell_type": "code",
   "execution_count": 290,
   "metadata": {},
   "outputs": [],
   "source": [
    "test_df_dropped = test_df.drop(['AUCGUART','PRIMEUNIT','VNZIP1','WheelType'],axis=1)"
   ]
  },
  {
   "cell_type": "code",
   "execution_count": 291,
   "metadata": {},
   "outputs": [
    {
     "data": {
      "text/plain": [
       "(48707, 29)"
      ]
     },
     "execution_count": 291,
     "metadata": {},
     "output_type": "execute_result"
    }
   ],
   "source": [
    "test_df_dropped.shape"
   ]
  },
  {
   "cell_type": "code",
   "execution_count": 292,
   "metadata": {},
   "outputs": [],
   "source": [
    "test_df_dropped['Date']=pd.to_datetime(test_df_dropped['PurchDate'], errors='coerce')"
   ]
  },
  {
   "cell_type": "code",
   "execution_count": 293,
   "metadata": {},
   "outputs": [],
   "source": [
    "test_df_dropped['purchasedMonth']= pd.DatetimeIndex(test_df_dropped['Date']).month\n",
    "test_df_dropped['purchasedYear']= pd.DatetimeIndex(test_df_dropped['Date']).year\n",
    "test_df_dropped['purchasedDate']= pd.DatetimeIndex(test_df_dropped['Date']).day"
   ]
  },
  {
   "cell_type": "code",
   "execution_count": 294,
   "metadata": {},
   "outputs": [
    {
     "data": {
      "text/plain": [
       "(48707, 33)"
      ]
     },
     "execution_count": 294,
     "metadata": {},
     "output_type": "execute_result"
    }
   ],
   "source": [
    "test_df_dropped.shape"
   ]
  },
  {
   "cell_type": "code",
   "execution_count": 295,
   "metadata": {},
   "outputs": [],
   "source": [
    "test_df_date_dropped = test_df_dropped.drop(['Date','PurchDate'],axis=1)"
   ]
  },
  {
   "cell_type": "code",
   "execution_count": 296,
   "metadata": {},
   "outputs": [
    {
     "data": {
      "text/plain": [
       "(48707, 31)"
      ]
     },
     "execution_count": 296,
     "metadata": {},
     "output_type": "execute_result"
    }
   ],
   "source": [
    "test_df_date_dropped.shape"
   ]
  },
  {
   "cell_type": "code",
   "execution_count": 297,
   "metadata": {},
   "outputs": [],
   "source": [
    "test_df_date_dropped['Make'] = test_df_date_dropped['Make'].astype('category')\n",
    "test_df_date_dropped['Make'] = test_df_date_dropped['Make'].cat.codes\n",
    "test_df_date_dropped['Model'] = test_df_date_dropped['Model'].astype('category')\n",
    "test_df_date_dropped['Model'] = test_df_date_dropped['Model'].cat.codes\n",
    "test_df_date_dropped['Trim'] = test_df_date_dropped['Trim'].astype('category')\n",
    "test_df_date_dropped['Trim'] = test_df_date_dropped['Trim'].cat.codes\n",
    "test_df_date_dropped['SubModel'] = test_df_date_dropped['SubModel'].astype('category')\n",
    "test_df_date_dropped['SubModel'] = test_df_date_dropped['SubModel'].cat.codes\n",
    "test_df_date_dropped['Color'] = test_df_date_dropped['Color'].astype('category')\n",
    "test_df_date_dropped['Color'] = test_df_date_dropped['Color'].cat.codes\n",
    "test_df_date_dropped['VNST'] = test_df_date_dropped['VNST'].astype('category')\n",
    "test_df_date_dropped['VNST'] = test_df_date_dropped['VNST'].cat.codes"
   ]
  },
  {
   "cell_type": "code",
   "execution_count": 298,
   "metadata": {},
   "outputs": [
    {
     "data": {
      "text/plain": [
       "RefId                                  int64\n",
       "Auction                               object\n",
       "VehYear                                int64\n",
       "VehicleAge                             int64\n",
       "Make                                    int8\n",
       "Model                                  int16\n",
       "Trim                                   int16\n",
       "SubModel                               int16\n",
       "Color                                   int8\n",
       "Transmission                          object\n",
       "WheelTypeID                          float64\n",
       "VehOdo                                 int64\n",
       "Nationality                           object\n",
       "Size                                  object\n",
       "TopThreeAmericanName                  object\n",
       "MMRAcquisitionAuctionAveragePrice    float64\n",
       "MMRAcquisitionAuctionCleanPrice      float64\n",
       "MMRAcquisitionRetailAveragePrice     float64\n",
       "MMRAcquisitonRetailCleanPrice        float64\n",
       "MMRCurrentAuctionAveragePrice        float64\n",
       "MMRCurrentAuctionCleanPrice          float64\n",
       "MMRCurrentRetailAveragePrice         float64\n",
       "MMRCurrentRetailCleanPrice           float64\n",
       "BYRNO                                  int64\n",
       "VNST                                    int8\n",
       "VehBCost                             float64\n",
       "IsOnlineSale                           int64\n",
       "WarrantyCost                           int64\n",
       "purchasedMonth                         int64\n",
       "purchasedYear                          int64\n",
       "purchasedDate                          int64\n",
       "dtype: object"
      ]
     },
     "execution_count": 298,
     "metadata": {},
     "output_type": "execute_result"
    }
   ],
   "source": [
    "test_df_date_dropped.dtypes"
   ]
  },
  {
   "cell_type": "code",
   "execution_count": 300,
   "metadata": {},
   "outputs": [
    {
     "name": "stdout",
     "output_type": "stream",
     "text": [
      "Count of Null values for each column Transmission                            3\n",
      "WheelTypeID                          2188\n",
      "Nationality                             7\n",
      "Size                                    7\n",
      "TopThreeAmericanName                    7\n",
      "MMRAcquisitionAuctionAveragePrice      10\n",
      "MMRAcquisitionAuctionCleanPrice        10\n",
      "MMRAcquisitionRetailAveragePrice       10\n",
      "MMRAcquisitonRetailCleanPrice          10\n",
      "MMRCurrentAuctionAveragePrice         143\n",
      "MMRCurrentAuctionCleanPrice           143\n",
      "MMRCurrentRetailAveragePrice          143\n",
      "MMRCurrentRetailCleanPrice            143\n",
      "dtype: int64\n"
     ]
    }
   ],
   "source": [
    "'''Replacing the null values with the median of the column assuming data to distributed normally. We can replace with historical data as well.For now replacing with median as there is time constraint'''\n",
    "nullValues = test_df_date_dropped.isnull().sum()\n",
    "print('Count of Null values for each column',nullValues[nullValues>0])"
   ]
  },
  {
   "cell_type": "code",
   "execution_count": 301,
   "metadata": {},
   "outputs": [],
   "source": [
    "test_df_date_dropped.fillna(test_df_date_dropped.median(), inplace=True)"
   ]
  },
  {
   "cell_type": "code",
   "execution_count": 304,
   "metadata": {},
   "outputs": [
    {
     "name": "stdout",
     "output_type": "stream",
     "text": [
      "Count of Null values for each column\n",
      " Transmission            3\n",
      "Nationality             7\n",
      "Size                    7\n",
      "TopThreeAmericanName    7\n",
      "dtype: int64\n"
     ]
    }
   ],
   "source": [
    "'''Replacing the null values with the median of the column assuming data to distributed normally. We can replace with historical data as well.For now replacing with median as there is time constraint'''\n",
    "nullValues = test_df_date_dropped.isnull().sum()\n",
    "print('Count of Null values for each column\\n',nullValues[nullValues>0])"
   ]
  },
  {
   "cell_type": "code",
   "execution_count": 305,
   "metadata": {},
   "outputs": [
    {
     "name": "stdout",
     "output_type": "stream",
     "text": [
      "['AMERICAN' 'OTHER ASIAN' 'TOP LINE ASIAN' 'OTHER' nan]\n",
      "['LARGE' 'MEDIUM' 'MEDIUM SUV' 'COMPACT' 'VAN' 'CROSSOVER' 'SMALL SUV'\n",
      " 'LARGE SUV' 'LARGE TRUCK' 'SPORTS' 'SPECIALTY' 'SMALL TRUCK' nan]\n",
      "['GM' 'CHRYSLER' 'OTHER' 'FORD' nan]\n",
      "['AUTO' 'MANUAL' nan]\n"
     ]
    }
   ],
   "source": [
    "'''All the above columns had NAN values. As we are converting them to one hot vectors they will form a different category'''\n",
    "print(test_df_date_dropped.Nationality.unique())\n",
    "print(test_df_date_dropped.Size.unique())\n",
    "print(test_df_date_dropped.TopThreeAmericanName.unique())\n",
    "print(test_df_date_dropped.Transmission.unique())"
   ]
  },
  {
   "cell_type": "code",
   "execution_count": 317,
   "metadata": {},
   "outputs": [],
   "source": [
    "test_df_date_dropped_encoded = pd.get_dummies(test_df_date_dropped,columns=['Nationality','Auction','Transmission','Size','TopThreeAmericanName'])"
   ]
  },
  {
   "cell_type": "code",
   "execution_count": 318,
   "metadata": {},
   "outputs": [
    {
     "data": {
      "text/plain": [
       "(48707, 51)"
      ]
     },
     "execution_count": 318,
     "metadata": {},
     "output_type": "execute_result"
    }
   ],
   "source": [
    "test_df_date_dropped_encoded.shape"
   ]
  },
  {
   "cell_type": "code",
   "execution_count": null,
   "metadata": {},
   "outputs": [],
   "source": [
    "test_df_date_dropped_encoded"
   ]
  },
  {
   "cell_type": "code",
   "execution_count": 320,
   "metadata": {},
   "outputs": [],
   "source": [
    "'''This is the model that we are going to use finally . I have used the entire training data which are X and y. \n",
    "I tried to predict using the test data that is provided by you which was transformed same as traning data'''\n",
    "random_forest_model = RandomForestClassifier(n_estimators=40)\n",
    "random_forest_model.fit(X,y)\n",
    "predicted = random_forest_model.predict(test_df_date_dropped_encoded)"
   ]
  },
  {
   "cell_type": "code",
   "execution_count": 321,
   "metadata": {},
   "outputs": [
    {
     "data": {
      "text/plain": [
       "array([0, 0, 0, ..., 0, 0, 0], dtype=int64)"
      ]
     },
     "execution_count": 321,
     "metadata": {},
     "output_type": "execute_result"
    }
   ],
   "source": [
    "predicted"
   ]
  },
  {
   "cell_type": "code",
   "execution_count": 325,
   "metadata": {},
   "outputs": [],
   "source": [
    "import numpy as np"
   ]
  },
  {
   "cell_type": "code",
   "execution_count": 326,
   "metadata": {},
   "outputs": [],
   "source": [
    "np.savetxt('predicted.csv',predicted,delimiter=\",\")"
   ]
  }
 ],
 "metadata": {
  "kernelspec": {
   "display_name": "Python 3",
   "language": "python",
   "name": "python3"
  },
  "language_info": {
   "codemirror_mode": {
    "name": "ipython",
    "version": 3
   },
   "file_extension": ".py",
   "mimetype": "text/x-python",
   "name": "python",
   "nbconvert_exporter": "python",
   "pygments_lexer": "ipython3",
   "version": "3.7.6"
  }
 },
 "nbformat": 4,
 "nbformat_minor": 2
}
